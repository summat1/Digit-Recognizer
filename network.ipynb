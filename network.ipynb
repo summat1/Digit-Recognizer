{
 "cells": [
  {
   "attachments": {},
   "cell_type": "markdown",
   "metadata": {},
   "source": [
    "## A Neural Network From Scratch\n",
    "\n",
    "This project uses basic Python libraries (no TensorFlow, no PyTorch) to implement a neural network. The data is from the MNIST database which contains various \"hand-drawn\" images of digits, sourced from [Kaggle](https://www.kaggle.com/competitions/digit-recognizer). I did this to understand the fundamentals of machine learning and prepare myself for future coding projects. Let's start by importing the libraries and the data."
   ]
  },
  {
   "cell_type": "code",
   "execution_count": 18,
   "metadata": {},
   "outputs": [],
   "source": [
    "import numpy as np\n",
    "import pandas as pd\n",
    "from matplotlib import pyplot as plt"
   ]
  },
  {
   "attachments": {},
   "cell_type": "markdown",
   "metadata": {},
   "source": [
    "#### Loading the Data\n",
    "\n",
    "The training dataset has 42000 rows (number of images) and 785 columns. The images are 28 x 28 pixels, for a total of 784 pixels. The additional column is for the label, identifying which digit that image represents. For a given pixel, we have a value from 0 - 255: 255 being completely white, and 0 being completely black. \n",
    "\n",
    "Training data is used to train the model, and testng data is only used once at the very end to estimate the model's performance on future data. In the next few code chunks, the data is loaded and prepared."
   ]
  },
  {
   "cell_type": "code",
   "execution_count": 19,
   "metadata": {},
   "outputs": [],
   "source": [
    "# Load in the data\n",
    "data = pd.read_csv(\"data/train.csv\")\n",
    "test_data = pd.read_csv(\"data/test.csv\")"
   ]
  },
  {
   "cell_type": "code",
   "execution_count": 20,
   "metadata": {},
   "outputs": [
    {
     "data": {
      "text/html": [
       "<div>\n",
       "<style scoped>\n",
       "    .dataframe tbody tr th:only-of-type {\n",
       "        vertical-align: middle;\n",
       "    }\n",
       "\n",
       "    .dataframe tbody tr th {\n",
       "        vertical-align: top;\n",
       "    }\n",
       "\n",
       "    .dataframe thead th {\n",
       "        text-align: right;\n",
       "    }\n",
       "</style>\n",
       "<table border=\"1\" class=\"dataframe\">\n",
       "  <thead>\n",
       "    <tr style=\"text-align: right;\">\n",
       "      <th></th>\n",
       "      <th>label</th>\n",
       "      <th>pixel0</th>\n",
       "      <th>pixel1</th>\n",
       "      <th>pixel2</th>\n",
       "      <th>pixel3</th>\n",
       "      <th>pixel4</th>\n",
       "      <th>pixel5</th>\n",
       "      <th>pixel6</th>\n",
       "      <th>pixel7</th>\n",
       "      <th>pixel8</th>\n",
       "      <th>...</th>\n",
       "      <th>pixel774</th>\n",
       "      <th>pixel775</th>\n",
       "      <th>pixel776</th>\n",
       "      <th>pixel777</th>\n",
       "      <th>pixel778</th>\n",
       "      <th>pixel779</th>\n",
       "      <th>pixel780</th>\n",
       "      <th>pixel781</th>\n",
       "      <th>pixel782</th>\n",
       "      <th>pixel783</th>\n",
       "    </tr>\n",
       "  </thead>\n",
       "  <tbody>\n",
       "    <tr>\n",
       "      <th>0</th>\n",
       "      <td>1</td>\n",
       "      <td>0</td>\n",
       "      <td>0</td>\n",
       "      <td>0</td>\n",
       "      <td>0</td>\n",
       "      <td>0</td>\n",
       "      <td>0</td>\n",
       "      <td>0</td>\n",
       "      <td>0</td>\n",
       "      <td>0</td>\n",
       "      <td>...</td>\n",
       "      <td>0</td>\n",
       "      <td>0</td>\n",
       "      <td>0</td>\n",
       "      <td>0</td>\n",
       "      <td>0</td>\n",
       "      <td>0</td>\n",
       "      <td>0</td>\n",
       "      <td>0</td>\n",
       "      <td>0</td>\n",
       "      <td>0</td>\n",
       "    </tr>\n",
       "    <tr>\n",
       "      <th>1</th>\n",
       "      <td>0</td>\n",
       "      <td>0</td>\n",
       "      <td>0</td>\n",
       "      <td>0</td>\n",
       "      <td>0</td>\n",
       "      <td>0</td>\n",
       "      <td>0</td>\n",
       "      <td>0</td>\n",
       "      <td>0</td>\n",
       "      <td>0</td>\n",
       "      <td>...</td>\n",
       "      <td>0</td>\n",
       "      <td>0</td>\n",
       "      <td>0</td>\n",
       "      <td>0</td>\n",
       "      <td>0</td>\n",
       "      <td>0</td>\n",
       "      <td>0</td>\n",
       "      <td>0</td>\n",
       "      <td>0</td>\n",
       "      <td>0</td>\n",
       "    </tr>\n",
       "    <tr>\n",
       "      <th>2</th>\n",
       "      <td>1</td>\n",
       "      <td>0</td>\n",
       "      <td>0</td>\n",
       "      <td>0</td>\n",
       "      <td>0</td>\n",
       "      <td>0</td>\n",
       "      <td>0</td>\n",
       "      <td>0</td>\n",
       "      <td>0</td>\n",
       "      <td>0</td>\n",
       "      <td>...</td>\n",
       "      <td>0</td>\n",
       "      <td>0</td>\n",
       "      <td>0</td>\n",
       "      <td>0</td>\n",
       "      <td>0</td>\n",
       "      <td>0</td>\n",
       "      <td>0</td>\n",
       "      <td>0</td>\n",
       "      <td>0</td>\n",
       "      <td>0</td>\n",
       "    </tr>\n",
       "    <tr>\n",
       "      <th>3</th>\n",
       "      <td>4</td>\n",
       "      <td>0</td>\n",
       "      <td>0</td>\n",
       "      <td>0</td>\n",
       "      <td>0</td>\n",
       "      <td>0</td>\n",
       "      <td>0</td>\n",
       "      <td>0</td>\n",
       "      <td>0</td>\n",
       "      <td>0</td>\n",
       "      <td>...</td>\n",
       "      <td>0</td>\n",
       "      <td>0</td>\n",
       "      <td>0</td>\n",
       "      <td>0</td>\n",
       "      <td>0</td>\n",
       "      <td>0</td>\n",
       "      <td>0</td>\n",
       "      <td>0</td>\n",
       "      <td>0</td>\n",
       "      <td>0</td>\n",
       "    </tr>\n",
       "    <tr>\n",
       "      <th>4</th>\n",
       "      <td>0</td>\n",
       "      <td>0</td>\n",
       "      <td>0</td>\n",
       "      <td>0</td>\n",
       "      <td>0</td>\n",
       "      <td>0</td>\n",
       "      <td>0</td>\n",
       "      <td>0</td>\n",
       "      <td>0</td>\n",
       "      <td>0</td>\n",
       "      <td>...</td>\n",
       "      <td>0</td>\n",
       "      <td>0</td>\n",
       "      <td>0</td>\n",
       "      <td>0</td>\n",
       "      <td>0</td>\n",
       "      <td>0</td>\n",
       "      <td>0</td>\n",
       "      <td>0</td>\n",
       "      <td>0</td>\n",
       "      <td>0</td>\n",
       "    </tr>\n",
       "  </tbody>\n",
       "</table>\n",
       "<p>5 rows × 785 columns</p>\n",
       "</div>"
      ],
      "text/plain": [
       "   label  pixel0  pixel1  pixel2  pixel3  pixel4  pixel5  pixel6  pixel7  \\\n",
       "0      1       0       0       0       0       0       0       0       0   \n",
       "1      0       0       0       0       0       0       0       0       0   \n",
       "2      1       0       0       0       0       0       0       0       0   \n",
       "3      4       0       0       0       0       0       0       0       0   \n",
       "4      0       0       0       0       0       0       0       0       0   \n",
       "\n",
       "   pixel8  ...  pixel774  pixel775  pixel776  pixel777  pixel778  pixel779  \\\n",
       "0       0  ...         0         0         0         0         0         0   \n",
       "1       0  ...         0         0         0         0         0         0   \n",
       "2       0  ...         0         0         0         0         0         0   \n",
       "3       0  ...         0         0         0         0         0         0   \n",
       "4       0  ...         0         0         0         0         0         0   \n",
       "\n",
       "   pixel780  pixel781  pixel782  pixel783  \n",
       "0         0         0         0         0  \n",
       "1         0         0         0         0  \n",
       "2         0         0         0         0  \n",
       "3         0         0         0         0  \n",
       "4         0         0         0         0  \n",
       "\n",
       "[5 rows x 785 columns]"
      ]
     },
     "execution_count": 20,
     "metadata": {},
     "output_type": "execute_result"
    }
   ],
   "source": [
    "# A quick peek at the data\n",
    "data.head()"
   ]
  },
  {
   "cell_type": "code",
   "execution_count": 21,
   "metadata": {},
   "outputs": [],
   "source": [
    "# Transformed from a pandas DataFrame to a 2D numpy array and shuffled\n",
    "data = np.array(data)\n",
    "images, inputs = data.shape\n",
    "np.random.shuffle(data)\n",
    "\n",
    "# Transposed so that one column represents one image, with 784 rows per image for pixels\n",
    "data = data.T\n",
    "\n",
    "# Take 20% of the training data as a validation set\n",
    "data_train = data[:, 0:33600]\n",
    "data_validation = data[:, 33600:]\n",
    "\n",
    "# Labels split from data \n",
    "# Data normalized to represent pixels between 0 and 1\n",
    "# For both datasets\n",
    "Y_train = data_train[0]\n",
    "X_train = data_train[1:inputs]/255\n",
    "\n",
    "Y_val = data_validation[0]\n",
    "X_val = data_validation[1:inputs]/255"
   ]
  },
  {
   "attachments": {},
   "cell_type": "markdown",
   "metadata": {},
   "source": [
    "#### Our Network Structure\n",
    "\n",
    "We will construct a simple neural network with 3 layers. The input layer has 784 nodes (no parameters). The next layer is the hidden layer and has 10 nodes. The third layer is the output layer that also has 10 nodes. When data passes from one layer to the next, there is a weight and a bias (parameters) applied to transform the input.\n",
    "\n",
    "**Input Layer**:\n",
    "- A0 = X   \n",
    "- Size: (784 x m)\n",
    "\n",
    "**Hidden Layer**:\n",
    "- Z1 = W1 * A0 + b1\n",
    "- Sizes: \n",
    "    - Z1 (10 x m) this is the output of the hidden layer\n",
    "    - W1 (10 x 784) this is the weight applied to the input\n",
    "    - A0 (784 x m) this is the input\n",
    "    - b1 (10 x 1) this is the bias applied\n",
    "\n",
    "*Important Step*: We have to apply an activation function. Because if we did not have one, we would only have an output that is purely a linear combination of the input layer. This cannot give us very meaningful output.\n",
    "\n",
    "We will use a **ReLU** activation function: Rectified Linear Unit. This is a linear function past 0 and a zero function everywhere else.\n",
    "- A1 = g(Z1) = ReLU(Z1)\n",
    "\n",
    "**Output Layer**\n",
    "- Z2 = W2 * A1 + b2\n",
    "- Sizes: \n",
    "    - Z2 (10 x m) this is the output of the output layer\n",
    "    - W2 (10 x 784) this is the weight applied to the activated hidden layer output\n",
    "    - A1 (784 x m) this is the activated output generated from the hidden layer\n",
    "    - b2 (10 x 1) this is the bias applied\n",
    "\n",
    "*Important Step*: We must again apply an activation function that will generate a more useful output from this data. Here we choose softmax, which calculates probabilities of the possible outputs from the raw output layer output data (Z2).\n",
    "\n",
    "- A2 = softmax(Z2)\n",
    "\n",
    "Let's code it up!"
   ]
  },
  {
   "cell_type": "code",
   "execution_count": 22,
   "metadata": {},
   "outputs": [],
   "source": [
    "input_layer_size = 784 \n",
    "hidden_layer_size = 10\n",
    "output_layer_size = 10 \n",
    "\n",
    "# Initializing random parameters to start\n",
    "def initialize_params():\n",
    "    W1 = np.random.randn(hidden_layer_size, input_layer_size) * np.sqrt(1 / input_layer_size)\n",
    "    b1 = np.zeros((hidden_layer_size, 1))\n",
    "    W2 = np.random.randn(output_layer_size, hidden_layer_size) * np.sqrt(1 / hidden_layer_size)\n",
    "    b2 = np.zeros((output_layer_size, 1))\n",
    "    return W1, b1, W2, b2\n",
    "\n",
    "# We have to define a ReLU function before we can do forward propagation\n",
    "def ReLU(Z):\n",
    "    # This is element-wise, so for each element in Z, it will return either Z or 0 depending on which is larger\n",
    "    return np.maximum(0, Z)\n",
    "\n",
    "# Compute the softmax function\n",
    "def softmax(Z):\n",
    "    return (np.exp(Z)) / (np.sum(np.exp(Z), axis=0))\n",
    "\n",
    "# Now let's apply the formulas and move forward through the network\n",
    "def forward_prop(W1, b1, W2, b2, X):\n",
    "    Z1 = W1.dot(X) + b1\n",
    "    A1 = ReLU(Z1)\n",
    "    \n",
    "    Z2 = W2.dot(A1) + b2\n",
    "    A2 = softmax(Z2)\n",
    "    return Z1, A1, Z2, A2\n",
    "\n",
    "# A cost function to calculate the loss, using cross-entropy here\n",
    "def cross_entropy_loss(Y, Y_hat):\n",
    "    loss = -np.mean(Y * np.log(Y_hat))\n",
    "    return loss\n"
   ]
  },
  {
   "attachments": {},
   "cell_type": "markdown",
   "metadata": {},
   "source": [
    "#### Training our Network\n",
    "\n",
    "Previously, we defined our network. And the formulas we defined above show how we traverse the network in a process known as **forward propagation**. Load in the data, apply weights and biases, and calculate an output. But in order to *train* the model to become better at identifying the digits, we have to check to see if we were right, and specifically, *how right*. This is the principle of **backwards propagation**. As the name suggests, we must essentially apply the inverse of forward propagation. We do this by calculating the error between our output values and the known values (the labels). We apply further formulas to calculate the error in the weights and biases as well. "
   ]
  },
  {
   "cell_type": "code",
   "execution_count": 23,
   "metadata": {},
   "outputs": [],
   "source": [
    "# Currently Y is in the format of a 1D array of values \n",
    "# For each value, turn it into a vector with a one in the location \n",
    "# of the value and zeros everywhere else\n",
    "def one_hot_encode(Y):\n",
    "    one_hot_Y = np.zeros((Y.size, Y.max() + 1))\n",
    "    one_hot_Y[np.arange(Y.size), Y] = 1\n",
    "    one_hot_Y = one_hot_Y.T\n",
    "    return one_hot_Y\n",
    "\n",
    "# return 1 if Z > 0 (slope of y = x)\n",
    "# return 0 if Z < 0 (slope of y = 0)\n",
    "def der_ReLU(Z):\n",
    "    return Z > 0\n",
    "\n",
    "# Traverse backwards through the network and calculate errors\n",
    "def back_prop(Z1, A1, Z2, A2, W2, X, Y):\n",
    "    m = Y.size\n",
    "    one_hot_Y = one_hot_encode(Y)\n",
    "\n",
    "    # the error in the calculation of Z2 \n",
    "    # (output layer intermediate output)\n",
    "    dZ2 = A2 - one_hot_Y\n",
    "\n",
    "    # the error in the calculation of W2\n",
    "    # (the weight in the output layer)\n",
    "    dW2 = (1/m) * dZ2.dot(A1.T)\n",
    "\n",
    "    # the error in the calculation of b2\n",
    "    # (the bias in the output layer)\n",
    "    db2 = (1/m) * np.sum(dZ2, 1)\n",
    "    db2 = db2.reshape(-1, 1)\n",
    "\n",
    "    # the error in the calculation of Z1\n",
    "    # (the output of the hidden layer)                        \n",
    "    dZ1 = W2.T.dot(dZ2) * der_ReLU(Z1)\n",
    "\n",
    "    # the error in the calculation of W1\n",
    "    # (the weight in the hidden layer)\n",
    "    dW1 = (1/m) * dZ1.dot(X.T)\n",
    "\n",
    "    # the error in the calculation of b1\n",
    "    # (the bias in the hidden layer)\n",
    "    db1 = (1/m) * np.sum(dZ1, 1)\n",
    "    db1 = db1.reshape(-1, 1)\n",
    "\n",
    "    return dW1, db1, dW2, db2  "
   ]
  },
  {
   "attachments": {},
   "cell_type": "markdown",
   "metadata": {},
   "source": [
    "#### Updating our Network\n",
    "\n",
    "From here, we've done most of the hard work. Now, we have to update the weights and biases based on our error calculations. The key part here is defining the learning rate **alpha**, a **hyperparameter**. Alpha defines how strong the updating is. An alpha closer to 1 means that any error highly changes the weights and biases, which can be useful for finding the right parameters but dangerous for causing instability. An alpha closer to 0 means that the values will converge more quickly but not always to the right value. "
   ]
  },
  {
   "cell_type": "code",
   "execution_count": 24,
   "metadata": {},
   "outputs": [],
   "source": [
    "# Update the weights and biases depending on the learning rate, alpha\n",
    "def update(W1, b1, W2, b2, dW1, db1, dW2, db2, alpha):\n",
    "    W1 -= alpha * dW1\n",
    "    b1 -= alpha * db1\n",
    "    W2 -= alpha * dW2\n",
    "    b2 -= alpha * db2\n",
    "    return W1, b1, W2, b2"
   ]
  },
  {
   "attachments": {},
   "cell_type": "markdown",
   "metadata": {},
   "source": [
    "#### Gradient Descent\n",
    "\n",
    "Gradient descent is an **optimization algorithm** - an iterative way to find the optimal weights and biases. This is the crux of the neural network and will use the methods we have previously defined. We start with initial random guesses for the parameters, and feed our training data through the network to calculate our outputs. We then backpropagate the outputs and quantify our error. Finally, we update the weights and biases based on that error. We run for a set number of iterations, and we **calculate our accuracy** (our output vs the actual labels) to understand how our model is performing. "
   ]
  },
  {
   "cell_type": "code",
   "execution_count": 25,
   "metadata": {},
   "outputs": [],
   "source": [
    "# Whichever value has the highest probability is the one that we select as the prediction\n",
    "def get_predictions(A2):\n",
    "    return np.argmax(A2, 0)\n",
    "\n",
    "# How accurate we were overall\n",
    "def get_accuracy(predictions, Y):\n",
    "    return np.sum(predictions == Y)/Y.size\n",
    "\n",
    "# Gradient descent\n",
    "def gradient_descent(X, Y, iterations, alpha):\n",
    "    # start with guesses for the weights and biases\n",
    "    W1, b1, W2, b2 = initialize_params()\n",
    "    for i in range(iterations):\n",
    "        # travel forward through the network to calculate output matrices (activated and unactivated)\n",
    "        Z1, A1, Z2, A2 = forward_prop(W1, b1, W2, b2, X)\n",
    "\n",
    "        # feed those values back through the network and calculate the errors from the correct values that we know (using training data)\n",
    "        dW1, db1, dW2, db2 = back_prop(Z1, A1, Z2, A2, W2, X, Y)\n",
    "\n",
    "        # update the weights and biases based on the error that we calculated \n",
    "        W1, b1, W2, b2 = update(W1, b1, W2, b2, dW1, db1, dW2, db2, alpha)\n",
    "\n",
    "        # print out the results\n",
    "        if i % 250 == 0:\n",
    "            print(\"Iteration # {}\".format(i))\n",
    "            print(\"Accuracy: {:.4f} \".format(get_accuracy(get_predictions(A2), Y)))\n",
    "                            \n",
    "    return W1, b1, W2, b2\n"
   ]
  },
  {
   "attachments": {},
   "cell_type": "markdown",
   "metadata": {},
   "source": [
    "#### Running the Model\n",
    "\n",
    "Here is where we employ these techniques and optimize the model parameters with training data. We've specified some hyperparameters: **iterations** = 5000, **learning rate** = 0.1"
   ]
  },
  {
   "cell_type": "code",
   "execution_count": 26,
   "metadata": {},
   "outputs": [
    {
     "name": "stdout",
     "output_type": "stream",
     "text": [
      "Iteration # 0\n",
      "Accuracy: 0.1016 \n"
     ]
    },
    {
     "name": "stdout",
     "output_type": "stream",
     "text": [
      "Iteration # 250\n",
      "Accuracy: 0.8918 \n",
      "Iteration # 500\n",
      "Accuracy: 0.9076 \n",
      "Iteration # 750\n",
      "Accuracy: 0.9150 \n",
      "Iteration # 1000\n",
      "Accuracy: 0.9197 \n",
      "Iteration # 1250\n",
      "Accuracy: 0.9236 \n",
      "Iteration # 1500\n",
      "Accuracy: 0.9260 \n",
      "Iteration # 1750\n",
      "Accuracy: 0.9290 \n",
      "Iteration # 2000\n",
      "Accuracy: 0.9308 \n",
      "Iteration # 2250\n",
      "Accuracy: 0.9326 \n"
     ]
    }
   ],
   "source": [
    "# Run the gradient descent with 5000 iterations and a learning rate of 0.1\n",
    "W1, b1, W2, b2 = gradient_descent(X_train, Y_train, 2500, alpha = 0.1)"
   ]
  },
  {
   "attachments": {},
   "cell_type": "markdown",
   "metadata": {},
   "source": [
    "#### Testing our Model\n",
    "\n",
    "Now we test our model on the validation set. We observe **~93% accuracy**, wow! Our model earned an A in classifying digits!!"
   ]
  },
  {
   "cell_type": "code",
   "execution_count": 35,
   "metadata": {},
   "outputs": [],
   "source": [
    "# Make and store image label predictions\n",
    "def make_predictions(X, W1, b1, W2, b2):\n",
    "    Z1, A1, Z2, A2 = forward_prop(W1, b1, W2, b2, X)\n",
    "    predictions = get_predictions(A2)\n",
    "    return predictions\n",
    "\n",
    "# Show an example prediction\n",
    "def test_prediction(i, W1, b1, W2, b2):\n",
    "    image = X_train[:, i, None]\n",
    "    prediction = make_predictions(image, W1, b1, W2, b2)\n",
    "    label = Y_train[i]\n",
    "\n",
    "    print(\"Our neural network thinks this is a: {}\".format(prediction))\n",
    "    print(\"This is labelled as a: {}\".format(label))\n",
    "\n",
    "    image = image.reshape((28, 28)) * 255\n",
    "    plt.gray()\n",
    "    plt.imshow(image, interpolation=\"nearest\")\n",
    "    plt.show()"
   ]
  },
  {
   "cell_type": "code",
   "execution_count": 36,
   "metadata": {},
   "outputs": [
    {
     "name": "stdout",
     "output_type": "stream",
     "text": [
      "Accuracy: 0.9223 \n"
     ]
    }
   ],
   "source": [
    "# Applying to validation set\n",
    "Z1, A1, Z2, A2 = forward_prop(W1 = W1, b1 = b1, W2 = W2, b2 = b2, X = X_val)\n",
    "preds = get_predictions(A2)\n",
    "print(\"Accuracy: {:.4f} \".format(get_accuracy(preds, Y_val)))"
   ]
  },
  {
   "cell_type": "markdown",
   "metadata": {},
   "source": [
    "#### Final Predictions for Kaggle\n",
    "\n",
    "Finally we can apply our model to the Kaggle testing data. We store our predictions in a .csv file and submit to the competition to see our results!"
   ]
  },
  {
   "cell_type": "code",
   "execution_count": 38,
   "metadata": {},
   "outputs": [
    {
     "name": "stderr",
     "output_type": "stream",
     "text": [
      "C:\\Users\\shivm\\AppData\\Local\\Temp\\ipykernel_5392\\570977314.py:20: RuntimeWarning: overflow encountered in exp\n",
      "  return (np.exp(Z)) / (np.sum(np.exp(Z), axis=0))\n",
      "C:\\Users\\shivm\\AppData\\Local\\Temp\\ipykernel_5392\\570977314.py:20: RuntimeWarning: invalid value encountered in divide\n",
      "  return (np.exp(Z)) / (np.sum(np.exp(Z), axis=0))\n"
     ]
    }
   ],
   "source": [
    "test_data = test_data.transpose()\n",
    "results = make_predictions(test_data, W1, b1, W2, b2)\n",
    "image_ids = np.arange(1, 28001, 1)\n",
    "\n",
    "result_df = pd.DataFrame({'ImageId' : image_ids, 'Label': results})\n",
    "result_df.to_csv('results.csv', index=False)"
   ]
  },
  {
   "attachments": {},
   "cell_type": "markdown",
   "metadata": {},
   "source": [
    "#### Showcasing our Results\n",
    "\n",
    "Let's see it in action! Here, I pull specific images from the training set and compare the model's output with the actual label. It's amazing to see how accurate it is. This has been a great way to explore my interest in machine learning, and I'm excited to start more projects!"
   ]
  },
  {
   "cell_type": "code",
   "execution_count": 39,
   "metadata": {},
   "outputs": [
    {
     "name": "stdout",
     "output_type": "stream",
     "text": [
      "Our neural network thinks this is a: [3]\n",
      "This is labelled as a: 3\n"
     ]
    },
    {
     "data": {
      "image/png": "[encoded data removed]",
      "text/plain": [
       "<Figure size 640x480 with 1 Axes>"
      ]
     },
     "metadata": {},
     "output_type": "display_data"
    }
   ],
   "source": [
    "test_prediction(17, W1, b1, W2, b2)"
   ]
  },
  {
   "cell_type": "code",
   "execution_count": 40,
   "metadata": {},
   "outputs": [
    {
     "name": "stdout",
     "output_type": "stream",
     "text": [
      "Our neural network thinks this is a: [0]\n",
      "This is labelled as a: 0\n"
     ]
    },
    {
     "data": {
      "image/png": "[encoded data removed]",
      "text/plain": [
       "<Figure size 640x480 with 1 Axes>"
      ]
     },
     "metadata": {},
     "output_type": "display_data"
    }
   ],
   "source": [
    "test_prediction(137, W1, b1, W2, b2)"
   ]
  },
  {
   "cell_type": "code",
   "execution_count": 41,
   "metadata": {},
   "outputs": [
    {
     "name": "stdout",
     "output_type": "stream",
     "text": [
      "Our neural network thinks this is a: [3]\n",
      "This is labelled as a: 3\n"
     ]
    },
    {
     "data": {
      "image/png": "[encoded data removed]",
      "text/plain": [
       "<Figure size 640x480 with 1 Axes>"
      ]
     },
     "metadata": {},
     "output_type": "display_data"
    }
   ],
   "source": [
    "test_prediction(2314, W1, b1, W2, b2)"
   ]
  },
  {
   "cell_type": "code",
   "execution_count": 42,
   "metadata": {},
   "outputs": [
    {
     "name": "stdout",
     "output_type": "stream",
     "text": [
      "Our neural network thinks this is a: [9]\n",
      "This is labelled as a: 9\n"
     ]
    },
    {
     "data": {
      "image/png": "[encoded data removed]",
      "text/plain": [
       "<Figure size 640x480 with 1 Axes>"
      ]
     },
     "metadata": {},
     "output_type": "display_data"
    }
   ],
   "source": [
    "test_prediction(7391, W1, b1, W2, b2)"
   ]
  },
  {
   "cell_type": "code",
   "execution_count": 43,
   "metadata": {},
   "outputs": [
    {
     "name": "stdout",
     "output_type": "stream",
     "text": [
      "Our neural network thinks this is a: [3]\n",
      "This is labelled as a: 3\n"
     ]
    },
    {
     "data": {
      "image/png": "[encoded data removed]",
      "text/plain": [
       "<Figure size 640x480 with 1 Axes>"
      ]
     },
     "metadata": {},
     "output_type": "display_data"
    }
   ],
   "source": [
    "test_prediction(14713, W1, b1, W2, b2)"
   ]
  }
 ],
 "metadata": {
  "kernelspec": {
   "display_name": "base",
   "language": "python",
   "name": "python3"
  },
  "language_info": {
   "codemirror_mode": {
    "name": "ipython",
    "version": 3
   },
   "file_extension": ".py",
   "mimetype": "text/x-python",
   "name": "python",
   "nbconvert_exporter": "python",
   "pygments_lexer": "ipython3",
   "version": "3.11.5"
  },
  "orig_nbformat": 4,
  "vscode": {
   "interpreter": {
    "hash": "b79547269aeff725ea9a8cb606707b347017d4b0e3d02348658397a8dd927e95"
   }
  }
 },
 "nbformat": 4,
 "nbformat_minor": 2
}
